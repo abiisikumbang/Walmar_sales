{
 "cells": [
  {
   "cell_type": "code",
   "execution_count": 8,
   "id": "540a751e-763f-4f1b-8111-3c112b85aae3",
   "metadata": {},
   "outputs": [
    {
     "data": {
      "text/plain": [
       "3"
      ]
     },
     "execution_count": 8,
     "metadata": {},
     "output_type": "execute_result"
    }
   ],
   "source": [
    "1+2"
   ]
  },
  {
   "cell_type": "code",
   "execution_count": 10,
   "id": "400d8bd4-7e0c-4eeb-b04d-3245bcc3df73",
   "metadata": {},
   "outputs": [
    {
     "data": {
      "text/plain": [
       "'1213'"
      ]
     },
     "execution_count": 10,
     "metadata": {},
     "output_type": "execute_result"
    }
   ],
   "source": [
    "'12'+'13'"
   ]
  },
  {
   "cell_type": "code",
   "execution_count": 11,
   "id": "81cfdaf2-c54b-41ce-af45-48a1c921e4b2",
   "metadata": {},
   "outputs": [
    {
     "data": {
      "text/plain": [
       "23444"
      ]
     },
     "metadata": {},
     "output_type": "display_data"
    }
   ],
   "source": [
    "display(23444)"
   ]
  },
  {
   "cell_type": "code",
   "execution_count": 12,
   "id": "6127fb2f-a8f3-4c85-8d8b-c8503afb2d02",
   "metadata": {},
   "outputs": [
    {
     "data": {
      "text/plain": [
       "2"
      ]
     },
     "metadata": {},
     "output_type": "display_data"
    },
    {
     "data": {
      "text/plain": [
       "'ibu'"
      ]
     },
     "metadata": {},
     "output_type": "display_data"
    },
    {
     "data": {
      "text/plain": [
       "212"
      ]
     },
     "metadata": {},
     "output_type": "display_data"
    }
   ],
   "source": [
    "display(2,\"ibu\")\n",
    "display(212)"
   ]
  },
  {
   "cell_type": "code",
   "execution_count": null,
   "id": "f52b0325-39ad-4ce4-a665-b17caea80082",
   "metadata": {},
   "outputs": [],
   "source": []
  }
 ],
 "metadata": {
  "kernelspec": {
   "display_name": "Python 3 (ipykernel)",
   "language": "python",
   "name": "python3"
  },
  "language_info": {
   "codemirror_mode": {
    "name": "ipython",
    "version": 3
   },
   "file_extension": ".py",
   "mimetype": "text/x-python",
   "name": "python",
   "nbconvert_exporter": "python",
   "pygments_lexer": "ipython3",
   "version": "3.12.0"
  }
 },
 "nbformat": 4,
 "nbformat_minor": 5
}
